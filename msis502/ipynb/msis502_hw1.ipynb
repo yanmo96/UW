{
 "cells": [
  {
   "cell_type": "code",
   "execution_count": 1,
   "metadata": {
    "colab": {
     "base_uri": "https://localhost:8080/",
     "height": 33
    },
    "colab_type": "code",
    "id": "7rR5Q1PALfbs",
    "outputId": "87da6944-9916-41fd-90fa-2f517cc7b4a7",
    "tags": []
   },
   "outputs": [
    {
     "name": "stdout",
     "output_type": "stream",
     "text": [
      "[-0.5831297   1.031691   -1.39054004 -0.85226648  0.49341743  1.30082778]\n"
     ]
    }
   ],
   "source": [
    "# 1\n",
    "import numpy as np\n",
    "height = [72, 78, 69, 71, 76, 79]\n",
    "height = np.array(height)\n",
    "h_mean = np.mean(height)\n",
    "h_std = np.std(height)\n",
    "# print(\"h_mean: \", h_mean)\n",
    "# print(\"h_std: \", h_std)\n",
    "height_mins_std = height - h_mean\n",
    "height_s = height_mins_std / h_std\n",
    "print(height_s)"
   ]
  },
  {
   "cell_type": "markdown",
   "metadata": {
    "colab_type": "text",
    "id": "93e4na9UPD0J"
   },
   "source": []
  },
  {
   "cell_type": "code",
   "execution_count": 2,
   "metadata": {
    "colab": {
     "base_uri": "https://localhost:8080/",
     "height": 50
    },
    "colab_type": "code",
    "id": "SmAsKRUINF8T",
    "outputId": "2c18c2a6-4247-4a03-d314-252e67ec0c69",
    "tags": []
   },
   "outputs": [
    {
     "name": "stdout",
     "output_type": "stream",
     "text": [
      "['CRIM' 'ZN' 'INDUS' 'CHAS' 'NOX' 'RM' 'AGE' 'DIS' 'RAD' 'TAX' 'PTRATIO'\n",
      " 'B' 'LSTAT']\n"
     ]
    }
   ],
   "source": [
    "from sklearn.datasets import load_boston\n",
    "boston = load_boston()\n",
    "attr = boston.data # attributes that may affact median values\n",
    "medV = boston.target # median value\n",
    "print(boston.feature_names)\n"
   ]
  },
  {
   "cell_type": "code",
   "execution_count": 3,
   "metadata": {
    "colab": {
     "base_uri": "https://localhost:8080/",
     "height": 887
    },
    "colab_type": "code",
    "id": "WkuTbhUWPB7s",
    "outputId": "120e8fdf-f8af-4bd5-b397-2bbd3cddec29",
    "tags": []
   },
   "outputs": [],
   "source": [
    "# print(boston.DESCR)"
   ]
  },
  {
   "cell_type": "code",
   "execution_count": 4,
   "metadata": {
    "colab": {
     "base_uri": "https://localhost:8080/",
     "height": 67
    },
    "colab_type": "code",
    "id": "RulHzd_DPMDp",
    "outputId": "dc88b71f-d233-4250-a97a-bd5f34e09fee",
    "tags": []
   },
   "outputs": [
    {
     "name": "stdout",
     "output_type": "stream",
     "text": [
      "[1.7004e-01 1.2500e+01 7.8700e+00 0.0000e+00 5.2400e-01 6.0040e+00\n",
      " 8.5900e+01 6.5921e+00 5.0000e+00 3.1100e+02 1.5200e+01 3.8671e+02\n",
      " 1.7100e+01]\n"
     ]
    }
   ],
   "source": [
    "# 2.1\n",
    "# print(attr.shape)\n",
    "print(attr[9,:])"
   ]
  },
  {
   "cell_type": "code",
   "execution_count": 5,
   "metadata": {
    "colab": {
     "base_uri": "https://localhost:8080/",
     "height": 33
    },
    "colab_type": "code",
    "id": "9mvZ1sDqQHVA",
    "outputId": "3c33792f-d471-4aa0-f6ac-b2b90239e61d",
    "tags": []
   },
   "outputs": [
    {
     "name": "stdout",
     "output_type": "stream",
     "text": [
      "6.284634387351779\n"
     ]
    }
   ],
   "source": [
    "# 2.2\n",
    "# print(attr[19,5]) #if 20th tract means 20th twon in the data\n",
    "print(np.average(attr[:,5]))  #if means 20th census tract of Boston "
   ]
  },
  {
   "cell_type": "code",
   "execution_count": 6,
   "metadata": {
    "colab": {
     "base_uri": "https://localhost:8080/",
     "height": 117
    },
    "colab_type": "code",
    "id": "eG6JfZeVRzJZ",
    "outputId": "4c83ba4e-9bc8-4c69-a8cd-dc90aee6d271",
    "tags": []
   },
   "outputs": [
    {
     "name": "stdout",
     "output_type": "stream",
     "text": [
      "[[ 38.3518   0.      18.1      0.       0.693    5.453  100.       1.4896\n",
      "   24.     666.      20.2    396.9     30.59  ]\n",
      " [ 25.0461   0.      18.1      0.       0.693    5.987  100.       1.5888\n",
      "   24.     666.      20.2    396.9     26.77  ]\n",
      " [ 67.9208   0.      18.1      0.       0.693    5.683  100.       1.4254\n",
      "   24.     666.      20.2    384.97    22.98  ]]\n"
     ]
    }
   ],
   "source": [
    "# 2.3\n",
    "print(attr[medV < 6])"
   ]
  },
  {
   "cell_type": "code",
   "execution_count": 7,
   "metadata": {
    "colab": {
     "base_uri": "https://localhost:8080/",
     "height": 33
    },
    "colab_type": "code",
    "id": "EFEaa24PZ-dC",
    "outputId": "fa0131eb-4ac2-4080-ffdb-dc042f44bd41",
    "tags": []
   },
   "outputs": [
    {
     "name": "stdout",
     "output_type": "stream",
     "text": [
      "19.485238095238092\n"
     ]
    }
   ],
   "source": [
    "# 2.4\n",
    "print(np.average(attr[medV < 20][:,10]))"
   ]
  },
  {
   "cell_type": "code",
   "execution_count": 8,
   "metadata": {
    "colab": {
     "base_uri": "https://localhost:8080/",
     "height": 100
    },
    "colab_type": "code",
    "id": "T0yNyt5mbAmc",
    "outputId": "6201e09f-75d6-476d-a56e-f0b9a6fb31d8",
    "tags": []
   },
   "outputs": [
    {
     "name": "stdout",
     "output_type": "stream",
     "text": [
      "[[  2.31 296.     4.98]\n",
      " [  7.07 242.     9.14]\n",
      " [  7.07 242.     4.03]\n",
      " [  2.18 222.     2.94]\n",
      " [  2.18 222.     5.33]]\n"
     ]
    }
   ],
   "source": [
    "# 2.5\n",
    "# print(attr[5,[2, 9, 12] ])\n",
    "print(attr[:5,[2, 9, 12] ])"
   ]
  },
  {
   "cell_type": "code",
   "execution_count": 9,
   "metadata": {
    "colab": {
     "base_uri": "https://localhost:8080/",
     "height": 33
    },
    "colab_type": "code",
    "id": "4vG6Me3xb9iw",
    "outputId": "88cf8a84-02ab-4325-dd09-35882db9e682",
    "tags": []
   },
   "outputs": [
    {
     "name": "stdout",
     "output_type": "stream",
     "text": [
      "[8, 56, 152]\n"
     ]
    }
   ],
   "source": [
    "# 3\n",
    "def my_f(a):\n",
    "  end_l = []\n",
    "  # function definition goes here\n",
    "  for i in a:\n",
    "    end_l.append(6*i*i +2)\n",
    "  return end_l\n",
    "y = my_f( [1,3,5] )\n",
    "print(y)"
   ]
  }
 ],
 "metadata": {
  "colab": {
   "name": "msis502 hw1",
   "provenance": []
  },
  "kernelspec": {
   "display_name": "Python 3",
   "language": "python",
   "name": "python3"
  },
  "language_info": {
   "codemirror_mode": {
    "name": "ipython",
    "version": 3
   },
   "file_extension": ".py",
   "mimetype": "text/x-python",
   "name": "python",
   "nbconvert_exporter": "python",
   "pygments_lexer": "ipython3",
   "version": "3.7.6"
  }
 },
 "nbformat": 4,
 "nbformat_minor": 1
}
