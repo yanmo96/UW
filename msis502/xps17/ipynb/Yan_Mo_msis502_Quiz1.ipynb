{
 "cells": [
  {
   "cell_type": "code",
   "execution_count": 1,
   "metadata": {},
   "outputs": [
    {
     "name": "stdout",
     "output_type": "stream",
     "text": [
      "0.7\n"
     ]
    }
   ],
   "source": [
    "# 1\n",
    "import numpy as np\n",
    "rng = [ [ 0.9, 0.9, 0.7, 0.5], [ 0.5, 0.1, 0.8, 0.2], [ 0.1, 0.8, 0.8, 0.8] ]\n",
    "rng = np.array(rng)\n",
    "print(rng[0,2])"
   ]
  },
  {
   "cell_type": "code",
   "execution_count": 3,
   "metadata": {},
   "outputs": [
    {
     "name": "stdout",
     "output_type": "stream",
     "text": [
      "0.32659863237109044\n"
     ]
    }
   ],
   "source": [
    "# 2\n",
    "from math import sqrt\n",
    "def my_std(x):\n",
    "    a = np.sum((x - np.mean(x))**2)\n",
    "    b = a / np.size(x)\n",
    "#     c = pow(b, 0.5)\n",
    "    c = sqrt(b)\n",
    "    return c\n",
    "print(my_std(rng[:,0]))"
   ]
  },
  {
   "cell_type": "code",
   "execution_count": null,
   "metadata": {},
   "outputs": [],
   "source": []
  }
 ],
 "metadata": {
  "kernelspec": {
   "display_name": "Python 3",
   "language": "python",
   "name": "python3"
  },
  "language_info": {
   "codemirror_mode": {
    "name": "ipython",
    "version": 3
   },
   "file_extension": ".py",
   "mimetype": "text/x-python",
   "name": "python",
   "nbconvert_exporter": "python",
   "pygments_lexer": "ipython3",
   "version": "3.7.6"
  }
 },
 "nbformat": 4,
 "nbformat_minor": 4
}
