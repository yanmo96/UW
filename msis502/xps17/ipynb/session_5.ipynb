{
 "metadata": {
  "language_info": {
   "codemirror_mode": {
    "name": "ipython",
    "version": 3
   },
   "file_extension": ".py",
   "mimetype": "text/x-python",
   "name": "python",
   "nbconvert_exporter": "python",
   "pygments_lexer": "ipython3",
   "version": "3.7.7-final"
  },
  "orig_nbformat": 2,
  "kernelspec": {
   "name": "python3",
   "display_name": "Python 3"
  }
 },
 "nbformat": 4,
 "nbformat_minor": 2,
 "cells": [
  {
   "cell_type": "code",
   "execution_count": 2,
   "metadata": {},
   "outputs": [
    {
     "output_type": "execute_result",
     "data": {
      "text/plain": "   TOTAL VALUE   TAX  LOT SQFT  GROSS AREA  LIVING AREA  FLOORS  ROOMS  \\\n0        344.2  4330      9965        2436         1352     2.0      6   \n1        412.6  5190      6590        3108         1976     2.0     10   \n2        330.1  4152      7500        2294         1371     2.0      8   \n3        498.6  6272     13773        5032         2608     1.0      9   \n4        331.5  4170      5000        2370         1438     2.0      7   \n\n   BEDROOMS  FULL BATH  HALF BATH  KITCHEN  FIREPLACE  \n0         3          1          1        1          0  \n1         4          2          1        1          0  \n2         4          1          1        1          0  \n3         5          1          1        1          1  \n4         3          2          0        1          0  ",
      "text/html": "<div>\n<style scoped>\n    .dataframe tbody tr th:only-of-type {\n        vertical-align: middle;\n    }\n\n    .dataframe tbody tr th {\n        vertical-align: top;\n    }\n\n    .dataframe thead th {\n        text-align: right;\n    }\n</style>\n<table border=\"1\" class=\"dataframe\">\n  <thead>\n    <tr style=\"text-align: right;\">\n      <th></th>\n      <th>TOTAL VALUE</th>\n      <th>TAX</th>\n      <th>LOT SQFT</th>\n      <th>GROSS AREA</th>\n      <th>LIVING AREA</th>\n      <th>FLOORS</th>\n      <th>ROOMS</th>\n      <th>BEDROOMS</th>\n      <th>FULL BATH</th>\n      <th>HALF BATH</th>\n      <th>KITCHEN</th>\n      <th>FIREPLACE</th>\n    </tr>\n  </thead>\n  <tbody>\n    <tr>\n      <th>0</th>\n      <td>344.2</td>\n      <td>4330</td>\n      <td>9965</td>\n      <td>2436</td>\n      <td>1352</td>\n      <td>2.0</td>\n      <td>6</td>\n      <td>3</td>\n      <td>1</td>\n      <td>1</td>\n      <td>1</td>\n      <td>0</td>\n    </tr>\n    <tr>\n      <th>1</th>\n      <td>412.6</td>\n      <td>5190</td>\n      <td>6590</td>\n      <td>3108</td>\n      <td>1976</td>\n      <td>2.0</td>\n      <td>10</td>\n      <td>4</td>\n      <td>2</td>\n      <td>1</td>\n      <td>1</td>\n      <td>0</td>\n    </tr>\n    <tr>\n      <th>2</th>\n      <td>330.1</td>\n      <td>4152</td>\n      <td>7500</td>\n      <td>2294</td>\n      <td>1371</td>\n      <td>2.0</td>\n      <td>8</td>\n      <td>4</td>\n      <td>1</td>\n      <td>1</td>\n      <td>1</td>\n      <td>0</td>\n    </tr>\n    <tr>\n      <th>3</th>\n      <td>498.6</td>\n      <td>6272</td>\n      <td>13773</td>\n      <td>5032</td>\n      <td>2608</td>\n      <td>1.0</td>\n      <td>9</td>\n      <td>5</td>\n      <td>1</td>\n      <td>1</td>\n      <td>1</td>\n      <td>1</td>\n    </tr>\n    <tr>\n      <th>4</th>\n      <td>331.5</td>\n      <td>4170</td>\n      <td>5000</td>\n      <td>2370</td>\n      <td>1438</td>\n      <td>2.0</td>\n      <td>7</td>\n      <td>3</td>\n      <td>2</td>\n      <td>0</td>\n      <td>1</td>\n      <td>0</td>\n    </tr>\n  </tbody>\n</table>\n</div>"
     },
     "metadata": {},
     "execution_count": 2
    }
   ],
   "source": [
    "import pandas as pd\n",
    "house = pd.read_csv('datas/WestRoxbury.csv')\n",
    "house.head()"
   ]
  },
  {
   "cell_type": "code",
   "execution_count": 5,
   "metadata": {
    "tags": []
   },
   "outputs": [
    {
     "output_type": "stream",
     "name": "stdout",
     "text": "['TOTAL VALUE' 'TAX' 'LOT SQFT' 'GROSS AREA' 'LIVING AREA' 'FLOORS'\n 'ROOMS' 'BEDROOMS' 'FULL BATH' 'HALF BATH' 'KITCHEN' 'FIREPLACE']\n"
    }
   ],
   "source": [
    "# print out columes name\n",
    "print(house.columns.values)"
   ]
  },
  {
   "cell_type": "code",
   "execution_count": 15,
   "metadata": {
    "tags": []
   },
   "outputs": [
    {
     "output_type": "stream",
     "name": "stdout",
     "text": "(5802, 3)\n"
    }
   ],
   "source": [
    "# Choose predictors to construct attribute matric\n",
    "select_index = ['GROSS AREA', 'FLOORS', 'ROOMS']\n",
    "house_X = house.loc[:, select_index]\n",
    "print(house_X.shape)"
   ]
  },
  {
   "cell_type": "code",
   "execution_count": 16,
   "metadata": {},
   "outputs": [],
   "source": [
    "# Target\n",
    "house_y = house.iloc[:,0]"
   ]
  },
  {
   "cell_type": "code",
   "execution_count": 17,
   "metadata": {},
   "outputs": [],
   "source": [
    "from sklearn.model_selection import train_test_split\n",
    "X_train, X_valid, y_train, y_valid = \\\n",
    "    train_test_split(house_X, house_y, test_size = 0.3, random_state=42)"
   ]
  },
  {
   "cell_type": "code",
   "execution_count": 18,
   "metadata": {
    "tags": []
   },
   "outputs": [
    {
     "output_type": "stream",
     "name": "stdout",
     "text": "(1741,)\n"
    }
   ],
   "source": [
    "print(y_valid.shape)"
   ]
  },
  {
   "cell_type": "code",
   "execution_count": 19,
   "metadata": {},
   "outputs": [],
   "source": [
    "from sklearn.linear_model import LinearRegression\n",
    "model = LinearRegression()"
   ]
  },
  {
   "cell_type": "code",
   "execution_count": 22,
   "metadata": {},
   "outputs": [
    {
     "output_type": "execute_result",
     "data": {
      "text/plain": "LinearRegression()"
     },
     "metadata": {},
     "execution_count": 22
    }
   ],
   "source": [
    "import numpy as np \n",
    "\n",
    "# train the model using the training set\n",
    "model.fit(X_train,y_train)"
   ]
  },
  {
   "cell_type": "code",
   "execution_count": 23,
   "metadata": {
    "tags": []
   },
   "outputs": [
    {
     "output_type": "stream",
     "name": "stdout",
     "text": "[ 0.07365711 52.30357956  6.42323096]\n"
    }
   ],
   "source": [
    "print(model.coef_)"
   ]
  },
  {
   "cell_type": "code",
   "execution_count": 24,
   "metadata": {
    "tags": []
   },
   "outputs": [
    {
     "output_type": "stream",
     "name": "stdout",
     "text": "43.63251892929634\n"
    }
   ],
   "source": [
    "print(model.intercept_)"
   ]
  },
  {
   "cell_type": "code",
   "execution_count": 26,
   "metadata": {},
   "outputs": [],
   "source": [
    "# make predictions \n",
    "y_pred = model.predict(X_valid)"
   ]
  },
  {
   "cell_type": "code",
   "execution_count": 28,
   "metadata": {
    "tags": []
   },
   "outputs": [
    {
     "output_type": "stream",
     "name": "stdout",
     "text": "[324.36351226 348.96498679 301.31235296 ... 347.42521939 536.53314407\n 359.09316756]\n"
    }
   ],
   "source": [
    "print(y_pred)"
   ]
  },
  {
   "cell_type": "code",
   "execution_count": 33,
   "metadata": {},
   "outputs": [
    {
     "output_type": "execute_result",
     "data": {
      "text/plain": "array([356.18689946])"
     },
     "metadata": {},
     "execution_count": 33
    }
   ],
   "source": [
    "# gross area = 2655, floors=1.5, rooms=6\n",
    "model.predict([[2655, 1.5, 6]])     # a list of list data"
   ]
  },
  {
   "cell_type": "code",
   "execution_count": 41,
   "metadata": {
    "tags": []
   },
   "outputs": [
    {
     "output_type": "stream",
     "name": "stdout",
     "text": "mae: 0.0\n"
    }
   ],
   "source": [
    "e = y_valid - y_pred\n",
    "mae = np.mean(np.abs(e))\n",
    "print(\"mae:\",mae)"
   ]
  },
  {
   "cell_type": "code",
   "execution_count": 42,
   "metadata": {
    "tags": []
   },
   "outputs": [
    {
     "output_type": "stream",
     "name": "stdout",
     "text": "mae: 39.888448920006006\n"
    }
   ],
   "source": [
    "y_pred_train = model.predict(X_train)\n",
    "e = y_train - y_pred_train\n",
    "mae = np.mean(np.abs(e))\n",
    "print(\"mae:\",mae)"
   ]
  }
 ]
}