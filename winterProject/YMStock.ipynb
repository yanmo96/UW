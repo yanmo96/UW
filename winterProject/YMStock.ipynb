{
  "nbformat": 4,
  "nbformat_minor": 0,
  "metadata": {
    "colab": {
      "name": "YMStock.ipynb",
      "provenance": [],
      "collapsed_sections": []
    },
    "kernelspec": {
      "name": "python3",
      "display_name": "Python 3"
    },
    "accelerator": "GPU"
  },
  "cells": [
    {
      "cell_type": "code",
      "metadata": {
        "colab": {
          "base_uri": "https://localhost:8080/"
        },
        "id": "TdzBJZ7QEYAB",
        "outputId": "556cef3a-b35d-454c-86d7-f79949c1dd85"
      },
      "source": [
        "print(\"hahahaha\")"
      ],
      "execution_count": 1,
      "outputs": [
        {
          "output_type": "stream",
          "text": [
            "hahahaha\n"
          ],
          "name": "stdout"
        }
      ]
    },
    {
      "cell_type": "code",
      "metadata": {
        "id": "jQnYFKzmEcMv"
      },
      "source": [
        "import pandas as pd\r\n",
        "import numpy as np"
      ],
      "execution_count": 2,
      "outputs": []
    },
    {
      "cell_type": "code",
      "metadata": {
        "id": "BsXFq6DtExl5"
      },
      "source": [
        "df = pd.read_csv(\"AAPL.csv\")"
      ],
      "execution_count": 3,
      "outputs": []
    },
    {
      "cell_type": "code",
      "metadata": {
        "colab": {
          "base_uri": "https://localhost:8080/"
        },
        "id": "aVhjvEymE3Ej",
        "outputId": "3a5a071e-5a41-4ac3-ff71-c6383f66d77b"
      },
      "source": [
        "df.head"
      ],
      "execution_count": 4,
      "outputs": [
        {
          "output_type": "execute_result",
          "data": {
            "text/plain": [
              "<bound method NDFrame.head of             Date        High         Low  ...       Close       Volume   Adj Close\n",
              "0     2006-01-03    2.669643    2.580357  ...    2.669643  807234400.0    2.284267\n",
              "1     2006-01-04    2.713571    2.660714  ...    2.677500  619603600.0    2.290990\n",
              "2     2006-01-05    2.675000    2.633929  ...    2.656429  449422400.0    2.272961\n",
              "3     2006-01-06    2.739286    2.662500  ...    2.725000  704457600.0    2.331634\n",
              "4     2006-01-09    2.757143    2.705000  ...    2.716071  675040800.0    2.323994\n",
              "...          ...         ...         ...  ...         ...          ...         ...\n",
              "3744  2020-11-16  120.989998  118.150002  ...  120.300003   91183000.0  120.300003\n",
              "3745  2020-11-17  120.669998  118.959999  ...  119.389999   74271000.0  119.389999\n",
              "3746  2020-11-18  119.820000  118.000000  ...  118.029999   76322100.0  118.029999\n",
              "3747  2020-11-19  119.059998  116.809998  ...  118.639999   74113000.0  118.639999\n",
              "3748  2020-11-20  118.769997  117.290001  ...  117.339996   73391400.0  117.339996\n",
              "\n",
              "[3749 rows x 7 columns]>"
            ]
          },
          "metadata": {
            "tags": []
          },
          "execution_count": 4
        }
      ]
    },
    {
      "cell_type": "code",
      "metadata": {
        "id": "3f4lVBNnE5H8"
      },
      "source": [
        "# df.fillna(-999999999, inplace=True)   #fill null with, may NOT need to do this"
      ],
      "execution_count": 5,
      "outputs": []
    },
    {
      "cell_type": "code",
      "metadata": {
        "id": "Mzyh9PtAJfnV"
      },
      "source": [
        "new_df = df[['Date','Adj Close']]"
      ],
      "execution_count": 6,
      "outputs": []
    },
    {
      "cell_type": "code",
      "metadata": {
        "id": "PJ9Uc9CDVjG5"
      },
      "source": [
        "df.drop(df.head(1).index,inplace=True) # drop first row"
      ],
      "execution_count": 7,
      "outputs": []
    },
    {
      "cell_type": "code",
      "metadata": {
        "colab": {
          "base_uri": "https://localhost:8080/"
        },
        "id": "K6Z1MqLXVqb-",
        "outputId": "e7d71b40-f947-41cf-bf01-77788ec00a94"
      },
      "source": [
        "new_df.drop(new_df.tail(1).index,inplace=True) # drop last n rows"
      ],
      "execution_count": 8,
      "outputs": [
        {
          "output_type": "stream",
          "text": [
            "/usr/local/lib/python3.6/dist-packages/pandas/core/frame.py:4174: SettingWithCopyWarning: \n",
            "A value is trying to be set on a copy of a slice from a DataFrame\n",
            "\n",
            "See the caveats in the documentation: https://pandas.pydata.org/pandas-docs/stable/user_guide/indexing.html#returning-a-view-versus-a-copy\n",
            "  errors=errors,\n"
          ],
          "name": "stderr"
        }
      ]
    },
    {
      "cell_type": "code",
      "metadata": {
        "colab": {
          "base_uri": "https://localhost:8080/"
        },
        "id": "j9Qge-g3Vvvv",
        "outputId": "d6bbc000-c54c-4c1c-8f7c-222d481f228a"
      },
      "source": [
        "df.reset_index(drop=True, inplace=True)\r\n",
        "df.head"
      ],
      "execution_count": 9,
      "outputs": [
        {
          "output_type": "execute_result",
          "data": {
            "text/plain": [
              "<bound method NDFrame.head of             Date        High         Low  ...       Close        Volume   Adj Close\n",
              "0     2006-01-04    2.713571    2.660714  ...    2.677500  6.196036e+08    2.290990\n",
              "1     2006-01-05    2.675000    2.633929  ...    2.656429  4.494224e+08    2.272961\n",
              "2     2006-01-06    2.739286    2.662500  ...    2.725000  7.044576e+08    2.331634\n",
              "3     2006-01-09    2.757143    2.705000  ...    2.716071  6.750408e+08    2.323994\n",
              "4     2006-01-10    2.924643    2.708214  ...    2.887857  2.279869e+09    2.470982\n",
              "...          ...         ...         ...  ...         ...           ...         ...\n",
              "3743  2020-11-16  120.989998  118.150002  ...  120.300003  9.118300e+07  120.300003\n",
              "3744  2020-11-17  120.669998  118.959999  ...  119.389999  7.427100e+07  119.389999\n",
              "3745  2020-11-18  119.820000  118.000000  ...  118.029999  7.632210e+07  118.029999\n",
              "3746  2020-11-19  119.059998  116.809998  ...  118.639999  7.411300e+07  118.639999\n",
              "3747  2020-11-20  118.769997  117.290001  ...  117.339996  7.339140e+07  117.339996\n",
              "\n",
              "[3748 rows x 7 columns]>"
            ]
          },
          "metadata": {
            "tags": []
          },
          "execution_count": 9
        }
      ]
    },
    {
      "cell_type": "code",
      "metadata": {
        "colab": {
          "base_uri": "https://localhost:8080/"
        },
        "id": "jwhIiDzKWuEP",
        "outputId": "c3f6dc3d-e2d6-4eae-eaac-3ffbff9e5850"
      },
      "source": [
        "new_df.reset_index(drop=True, inplace=True)\r\n",
        "new_df.head"
      ],
      "execution_count": 10,
      "outputs": [
        {
          "output_type": "execute_result",
          "data": {
            "text/plain": [
              "<bound method NDFrame.head of             Date   Adj Close\n",
              "0     2006-01-03    2.284267\n",
              "1     2006-01-04    2.290990\n",
              "2     2006-01-05    2.272961\n",
              "3     2006-01-06    2.331634\n",
              "4     2006-01-09    2.323994\n",
              "...          ...         ...\n",
              "3743  2020-11-13  119.260002\n",
              "3744  2020-11-16  120.300003\n",
              "3745  2020-11-17  119.389999\n",
              "3746  2020-11-18  118.029999\n",
              "3747  2020-11-19  118.639999\n",
              "\n",
              "[3748 rows x 2 columns]>"
            ]
          },
          "metadata": {
            "tags": []
          },
          "execution_count": 10
        }
      ]
    },
    {
      "cell_type": "code",
      "metadata": {
        "id": "tgimQyytVzlO"
      },
      "source": [
        "df['amountChange'] = new_df['Adj Close'] - df['Adj Close']"
      ],
      "execution_count": 11,
      "outputs": []
    },
    {
      "cell_type": "code",
      "metadata": {
        "colab": {
          "base_uri": "https://localhost:8080/"
        },
        "id": "xHbzPotMWMR6",
        "outputId": "99f8c3a1-c561-4511-a196-26d3c27ec3d5"
      },
      "source": [
        "df.head"
      ],
      "execution_count": 12,
      "outputs": [
        {
          "output_type": "execute_result",
          "data": {
            "text/plain": [
              "<bound method NDFrame.head of             Date        High  ...   Adj Close  amountChange\n",
              "0     2006-01-04    2.713571  ...    2.290990     -0.006723\n",
              "1     2006-01-05    2.675000  ...    2.272961      0.018029\n",
              "2     2006-01-06    2.739286  ...    2.331634     -0.058672\n",
              "3     2006-01-09    2.757143  ...    2.323994      0.007640\n",
              "4     2006-01-10    2.924643  ...    2.470982     -0.146988\n",
              "...          ...         ...  ...         ...           ...\n",
              "3743  2020-11-16  120.989998  ...  120.300003     -1.040001\n",
              "3744  2020-11-17  120.669998  ...  119.389999      0.910004\n",
              "3745  2020-11-18  119.820000  ...  118.029999      1.360001\n",
              "3746  2020-11-19  119.059998  ...  118.639999     -0.610001\n",
              "3747  2020-11-20  118.769997  ...  117.339996      1.300003\n",
              "\n",
              "[3748 rows x 8 columns]>"
            ]
          },
          "metadata": {
            "tags": []
          },
          "execution_count": 12
        }
      ]
    },
    {
      "cell_type": "code",
      "metadata": {
        "id": "MAW2KvrkWSRZ"
      },
      "source": [
        "df['Target'] = np.where(df['amountChange'] / df['Adj Close']>=0.01 , 1, 0)"
      ],
      "execution_count": 13,
      "outputs": []
    },
    {
      "cell_type": "code",
      "metadata": {
        "colab": {
          "base_uri": "https://localhost:8080/"
        },
        "id": "3gkbnIzEYuso",
        "outputId": "e84ef4f4-1d4f-44b5-bfb4-e314c6130aad"
      },
      "source": [
        "df.head"
      ],
      "execution_count": 14,
      "outputs": [
        {
          "output_type": "execute_result",
          "data": {
            "text/plain": [
              "<bound method NDFrame.head of             Date        High         Low  ...   Adj Close  amountChange  Target\n",
              "0     2006-01-04    2.713571    2.660714  ...    2.290990     -0.006723       0\n",
              "1     2006-01-05    2.675000    2.633929  ...    2.272961      0.018029       0\n",
              "2     2006-01-06    2.739286    2.662500  ...    2.331634     -0.058672       0\n",
              "3     2006-01-09    2.757143    2.705000  ...    2.323994      0.007640       0\n",
              "4     2006-01-10    2.924643    2.708214  ...    2.470982     -0.146988       0\n",
              "...          ...         ...         ...  ...         ...           ...     ...\n",
              "3743  2020-11-16  120.989998  118.150002  ...  120.300003     -1.040001       0\n",
              "3744  2020-11-17  120.669998  118.959999  ...  119.389999      0.910004       0\n",
              "3745  2020-11-18  119.820000  118.000000  ...  118.029999      1.360001       1\n",
              "3746  2020-11-19  119.059998  116.809998  ...  118.639999     -0.610001       0\n",
              "3747  2020-11-20  118.769997  117.290001  ...  117.339996      1.300003       1\n",
              "\n",
              "[3748 rows x 9 columns]>"
            ]
          },
          "metadata": {
            "tags": []
          },
          "execution_count": 14
        }
      ]
    },
    {
      "cell_type": "code",
      "metadata": {
        "colab": {
          "base_uri": "https://localhost:8080/"
        },
        "id": "mEZLDiM7Y0ze",
        "outputId": "4fe5a660-42ba-473f-8e2d-b804860a58fe"
      },
      "source": [
        "df['Target'].value_counts()"
      ],
      "execution_count": 15,
      "outputs": [
        {
          "output_type": "execute_result",
          "data": {
            "text/plain": [
              "0    2914\n",
              "1     834\n",
              "Name: Target, dtype: int64"
            ]
          },
          "metadata": {
            "tags": []
          },
          "execution_count": 15
        }
      ]
    },
    {
      "cell_type": "code",
      "metadata": {
        "id": "OVM698noL2Z2"
      },
      "source": [
        "# ========================================================================================"
      ],
      "execution_count": 16,
      "outputs": []
    },
    {
      "cell_type": "code",
      "metadata": {
        "id": "p-Aw1FKaLn5b"
      },
      "source": [
        "# # # decision tree\r\n",
        "# from sklearn import tree\r\n",
        "\r\n",
        "# clf = tree.DecisionTreeClassifier()\r\n",
        "# clf = clf.fit(df[['High', 'Low', 'Open', 'Close', 'Volume']], df['Target'])"
      ],
      "execution_count": 17,
      "outputs": []
    },
    {
      "cell_type": "code",
      "metadata": {
        "id": "dw4_9ZBOLxi6"
      },
      "source": [
        "# tree.plot_tree(clf) "
      ],
      "execution_count": 18,
      "outputs": []
    },
    {
      "cell_type": "code",
      "metadata": {
        "id": "ZjX7WkTtL3Qn"
      },
      "source": [
        "# ========================================================================================"
      ],
      "execution_count": 19,
      "outputs": []
    },
    {
      "cell_type": "code",
      "metadata": {
        "id": "5xCoeG-4O-tC"
      },
      "source": [
        "# ======================================================================================"
      ],
      "execution_count": 20,
      "outputs": []
    },
    {
      "cell_type": "code",
      "metadata": {
        "id": "06xIGe3TOyGf"
      },
      "source": [
        "lookBackDays = 1"
      ],
      "execution_count": 21,
      "outputs": []
    },
    {
      "cell_type": "code",
      "metadata": {
        "id": "2IXhwh1BPuf1"
      },
      "source": [
        "# df.drop(df.head(1).index,inplace=True) # drop first row\r\n",
        "# df.reset_index(drop=True, inplace=True)\r\n",
        "\r\n",
        "# new_df.drop(new_df.tail(1).index,inplace=True) # drop last n rows\r\n",
        "# new_df.reset_index(drop=True, inplace=True)"
      ],
      "execution_count": 22,
      "outputs": []
    },
    {
      "cell_type": "code",
      "metadata": {
        "id": "d-t9aAT7RySv"
      },
      "source": [
        "target_df = df['Target']"
      ],
      "execution_count": 23,
      "outputs": []
    },
    {
      "cell_type": "code",
      "metadata": {
        "colab": {
          "base_uri": "https://localhost:8080/"
        },
        "id": "nazwzrpWSOdb",
        "outputId": "e43fd726-c10e-4f34-98f2-60a4a3a11d2b"
      },
      "source": [
        "df.keys()"
      ],
      "execution_count": 24,
      "outputs": [
        {
          "output_type": "execute_result",
          "data": {
            "text/plain": [
              "Index(['Date', 'High', 'Low', 'Open', 'Close', 'Volume', 'Adj Close',\n",
              "       'amountChange', 'Target'],\n",
              "      dtype='object')"
            ]
          },
          "metadata": {
            "tags": []
          },
          "execution_count": 24
        }
      ]
    },
    {
      "cell_type": "code",
      "metadata": {
        "id": "1vlBOQGOvehy"
      },
      "source": [
        "df['HL_dis'] = df['High'] - df['Low']\r\n",
        "df['OC_dis'] = df['Open'] - df['Close']"
      ],
      "execution_count": 25,
      "outputs": []
    },
    {
      "cell_type": "code",
      "metadata": {
        "id": "iTwkw_xyl5_S"
      },
      "source": [
        "# =========================================================================================\r\n",
        "# the current way of normalize may not work!!!!   (need more research, but most likely is by colume)\r\n",
        "# \r\n",
        "# Need to normalize per time period with 'High', 'Low', 'Open', 'Close'\r\n",
        "# farther more may need to keep the upper and lower distance (more like shift the period of graph to center, but dont stretch it fully between 1 and -1)\r\n",
        "# \r\n",
        "# For now will do the re-center of each time period, but fully stretch (12-17-2020)\r\n",
        "# ========================================================================================="
      ],
      "execution_count": 26,
      "outputs": []
    },
    {
      "cell_type": "code",
      "metadata": {
        "id": "UFYz_BBQPSiQ"
      },
      "source": [
        "# df1 = df[['High', 'Low', 'Open', 'Close', 'Volume']]\r\n",
        "df1 = df[['High', 'Low', 'Open', 'Close']]\r\n",
        "# df1 = df[['HL_dis', 'OC_dis', 'Volume']]\r\n",
        "# df1 = df['Date']\r\n",
        "# df1 = df['Volume']\r\n",
        "\r\n",
        "df2 = df1\r\n"
      ],
      "execution_count": 27,
      "outputs": []
    },
    {
      "cell_type": "code",
      "metadata": {
        "colab": {
          "base_uri": "https://localhost:8080/",
          "height": 419
        },
        "id": "j7tVZAOyStOx",
        "outputId": "c169a98a-7253-46e9-8db1-ec940e6a2780"
      },
      "source": [
        "df1"
      ],
      "execution_count": 28,
      "outputs": [
        {
          "output_type": "execute_result",
          "data": {
            "text/html": [
              "<div>\n",
              "<style scoped>\n",
              "    .dataframe tbody tr th:only-of-type {\n",
              "        vertical-align: middle;\n",
              "    }\n",
              "\n",
              "    .dataframe tbody tr th {\n",
              "        vertical-align: top;\n",
              "    }\n",
              "\n",
              "    .dataframe thead th {\n",
              "        text-align: right;\n",
              "    }\n",
              "</style>\n",
              "<table border=\"1\" class=\"dataframe\">\n",
              "  <thead>\n",
              "    <tr style=\"text-align: right;\">\n",
              "      <th></th>\n",
              "      <th>High</th>\n",
              "      <th>Low</th>\n",
              "      <th>Open</th>\n",
              "      <th>Close</th>\n",
              "    </tr>\n",
              "  </thead>\n",
              "  <tbody>\n",
              "    <tr>\n",
              "      <th>0</th>\n",
              "      <td>2.713571</td>\n",
              "      <td>2.660714</td>\n",
              "      <td>2.683214</td>\n",
              "      <td>2.677500</td>\n",
              "    </tr>\n",
              "    <tr>\n",
              "      <th>1</th>\n",
              "      <td>2.675000</td>\n",
              "      <td>2.633929</td>\n",
              "      <td>2.672500</td>\n",
              "      <td>2.656429</td>\n",
              "    </tr>\n",
              "    <tr>\n",
              "      <th>2</th>\n",
              "      <td>2.739286</td>\n",
              "      <td>2.662500</td>\n",
              "      <td>2.687500</td>\n",
              "      <td>2.725000</td>\n",
              "    </tr>\n",
              "    <tr>\n",
              "      <th>3</th>\n",
              "      <td>2.757143</td>\n",
              "      <td>2.705000</td>\n",
              "      <td>2.740357</td>\n",
              "      <td>2.716071</td>\n",
              "    </tr>\n",
              "    <tr>\n",
              "      <th>4</th>\n",
              "      <td>2.924643</td>\n",
              "      <td>2.708214</td>\n",
              "      <td>2.723214</td>\n",
              "      <td>2.887857</td>\n",
              "    </tr>\n",
              "    <tr>\n",
              "      <th>...</th>\n",
              "      <td>...</td>\n",
              "      <td>...</td>\n",
              "      <td>...</td>\n",
              "      <td>...</td>\n",
              "    </tr>\n",
              "    <tr>\n",
              "      <th>3743</th>\n",
              "      <td>120.989998</td>\n",
              "      <td>118.150002</td>\n",
              "      <td>118.919998</td>\n",
              "      <td>120.300003</td>\n",
              "    </tr>\n",
              "    <tr>\n",
              "      <th>3744</th>\n",
              "      <td>120.669998</td>\n",
              "      <td>118.959999</td>\n",
              "      <td>119.550003</td>\n",
              "      <td>119.389999</td>\n",
              "    </tr>\n",
              "    <tr>\n",
              "      <th>3745</th>\n",
              "      <td>119.820000</td>\n",
              "      <td>118.000000</td>\n",
              "      <td>118.610001</td>\n",
              "      <td>118.029999</td>\n",
              "    </tr>\n",
              "    <tr>\n",
              "      <th>3746</th>\n",
              "      <td>119.059998</td>\n",
              "      <td>116.809998</td>\n",
              "      <td>117.589996</td>\n",
              "      <td>118.639999</td>\n",
              "    </tr>\n",
              "    <tr>\n",
              "      <th>3747</th>\n",
              "      <td>118.769997</td>\n",
              "      <td>117.290001</td>\n",
              "      <td>118.639999</td>\n",
              "      <td>117.339996</td>\n",
              "    </tr>\n",
              "  </tbody>\n",
              "</table>\n",
              "<p>3748 rows × 4 columns</p>\n",
              "</div>"
            ],
            "text/plain": [
              "            High         Low        Open       Close\n",
              "0       2.713571    2.660714    2.683214    2.677500\n",
              "1       2.675000    2.633929    2.672500    2.656429\n",
              "2       2.739286    2.662500    2.687500    2.725000\n",
              "3       2.757143    2.705000    2.740357    2.716071\n",
              "4       2.924643    2.708214    2.723214    2.887857\n",
              "...          ...         ...         ...         ...\n",
              "3743  120.989998  118.150002  118.919998  120.300003\n",
              "3744  120.669998  118.959999  119.550003  119.389999\n",
              "3745  119.820000  118.000000  118.610001  118.029999\n",
              "3746  119.059998  116.809998  117.589996  118.639999\n",
              "3747  118.769997  117.290001  118.639999  117.339996\n",
              "\n",
              "[3748 rows x 4 columns]"
            ]
          },
          "metadata": {
            "tags": []
          },
          "execution_count": 28
        }
      ]
    },
    {
      "cell_type": "code",
      "metadata": {
        "id": "piXEpj1cSvDJ"
      },
      "source": [
        "if lookBackDays > 1:\r\n",
        "  target_df.drop(target_df.head(lookBackDays).index,inplace=True) # drop number of lookBackDays row\r\n",
        "  target_df.reset_index(drop=True, inplace=True)\r\n",
        "\r\n",
        "for i in range(1, lookBackDays):\r\n",
        "  df1.drop(df1.head(1).index,inplace=True) # drop first row\r\n",
        "  df1.reset_index(drop=True, inplace=True)\r\n",
        "\r\n",
        "  df2.drop(df2.tail(1).index,inplace=True) # drop last n rows\r\n",
        "  df2.reset_index(drop=True, inplace=True)\r\n",
        "\r\n",
        "  df1 = pd.concat([df1, df2], axis=1, ignore_index=True)"
      ],
      "execution_count": 29,
      "outputs": []
    },
    {
      "cell_type": "code",
      "metadata": {
        "colab": {
          "base_uri": "https://localhost:8080/",
          "height": 419
        },
        "id": "6zJfp7G2TVe8",
        "outputId": "58c71aef-2e6a-4578-b2fa-fa5dd351d969"
      },
      "source": [
        "df1"
      ],
      "execution_count": 30,
      "outputs": [
        {
          "output_type": "execute_result",
          "data": {
            "text/html": [
              "<div>\n",
              "<style scoped>\n",
              "    .dataframe tbody tr th:only-of-type {\n",
              "        vertical-align: middle;\n",
              "    }\n",
              "\n",
              "    .dataframe tbody tr th {\n",
              "        vertical-align: top;\n",
              "    }\n",
              "\n",
              "    .dataframe thead th {\n",
              "        text-align: right;\n",
              "    }\n",
              "</style>\n",
              "<table border=\"1\" class=\"dataframe\">\n",
              "  <thead>\n",
              "    <tr style=\"text-align: right;\">\n",
              "      <th></th>\n",
              "      <th>High</th>\n",
              "      <th>Low</th>\n",
              "      <th>Open</th>\n",
              "      <th>Close</th>\n",
              "    </tr>\n",
              "  </thead>\n",
              "  <tbody>\n",
              "    <tr>\n",
              "      <th>0</th>\n",
              "      <td>2.713571</td>\n",
              "      <td>2.660714</td>\n",
              "      <td>2.683214</td>\n",
              "      <td>2.677500</td>\n",
              "    </tr>\n",
              "    <tr>\n",
              "      <th>1</th>\n",
              "      <td>2.675000</td>\n",
              "      <td>2.633929</td>\n",
              "      <td>2.672500</td>\n",
              "      <td>2.656429</td>\n",
              "    </tr>\n",
              "    <tr>\n",
              "      <th>2</th>\n",
              "      <td>2.739286</td>\n",
              "      <td>2.662500</td>\n",
              "      <td>2.687500</td>\n",
              "      <td>2.725000</td>\n",
              "    </tr>\n",
              "    <tr>\n",
              "      <th>3</th>\n",
              "      <td>2.757143</td>\n",
              "      <td>2.705000</td>\n",
              "      <td>2.740357</td>\n",
              "      <td>2.716071</td>\n",
              "    </tr>\n",
              "    <tr>\n",
              "      <th>4</th>\n",
              "      <td>2.924643</td>\n",
              "      <td>2.708214</td>\n",
              "      <td>2.723214</td>\n",
              "      <td>2.887857</td>\n",
              "    </tr>\n",
              "    <tr>\n",
              "      <th>...</th>\n",
              "      <td>...</td>\n",
              "      <td>...</td>\n",
              "      <td>...</td>\n",
              "      <td>...</td>\n",
              "    </tr>\n",
              "    <tr>\n",
              "      <th>3743</th>\n",
              "      <td>120.989998</td>\n",
              "      <td>118.150002</td>\n",
              "      <td>118.919998</td>\n",
              "      <td>120.300003</td>\n",
              "    </tr>\n",
              "    <tr>\n",
              "      <th>3744</th>\n",
              "      <td>120.669998</td>\n",
              "      <td>118.959999</td>\n",
              "      <td>119.550003</td>\n",
              "      <td>119.389999</td>\n",
              "    </tr>\n",
              "    <tr>\n",
              "      <th>3745</th>\n",
              "      <td>119.820000</td>\n",
              "      <td>118.000000</td>\n",
              "      <td>118.610001</td>\n",
              "      <td>118.029999</td>\n",
              "    </tr>\n",
              "    <tr>\n",
              "      <th>3746</th>\n",
              "      <td>119.059998</td>\n",
              "      <td>116.809998</td>\n",
              "      <td>117.589996</td>\n",
              "      <td>118.639999</td>\n",
              "    </tr>\n",
              "    <tr>\n",
              "      <th>3747</th>\n",
              "      <td>118.769997</td>\n",
              "      <td>117.290001</td>\n",
              "      <td>118.639999</td>\n",
              "      <td>117.339996</td>\n",
              "    </tr>\n",
              "  </tbody>\n",
              "</table>\n",
              "<p>3748 rows × 4 columns</p>\n",
              "</div>"
            ],
            "text/plain": [
              "            High         Low        Open       Close\n",
              "0       2.713571    2.660714    2.683214    2.677500\n",
              "1       2.675000    2.633929    2.672500    2.656429\n",
              "2       2.739286    2.662500    2.687500    2.725000\n",
              "3       2.757143    2.705000    2.740357    2.716071\n",
              "4       2.924643    2.708214    2.723214    2.887857\n",
              "...          ...         ...         ...         ...\n",
              "3743  120.989998  118.150002  118.919998  120.300003\n",
              "3744  120.669998  118.959999  119.550003  119.389999\n",
              "3745  119.820000  118.000000  118.610001  118.029999\n",
              "3746  119.059998  116.809998  117.589996  118.639999\n",
              "3747  118.769997  117.290001  118.639999  117.339996\n",
              "\n",
              "[3748 rows x 4 columns]"
            ]
          },
          "metadata": {
            "tags": []
          },
          "execution_count": 30
        }
      ]
    },
    {
      "cell_type": "code",
      "metadata": {
        "id": "ekDMABdeK52g"
      },
      "source": [
        "# ========================================================================================"
      ],
      "execution_count": 31,
      "outputs": []
    },
    {
      "cell_type": "code",
      "metadata": {
        "id": "04ZUni2HK5rD"
      },
      "source": [
        "# # decision tree\r\n",
        "# from sklearn import tree\r\n",
        "\r\n",
        "# clf = tree.DecisionTreeClassifier()\r\n",
        "# clf = clf.fit(df1, target_df)\r\n",
        "# tree.plot_tree(clf) "
      ],
      "execution_count": 32,
      "outputs": []
    },
    {
      "cell_type": "code",
      "metadata": {
        "id": "eeUk15adK5Xj"
      },
      "source": [
        "# ========================================================================================"
      ],
      "execution_count": 33,
      "outputs": []
    },
    {
      "cell_type": "code",
      "metadata": {
        "id": "PV2CGJ-PTWKl"
      },
      "source": [
        "import tensorflow\r\n",
        "from tensorflow import keras\r\n",
        "from tensorflow.keras.models import Sequential\r\n",
        "from tensorflow.keras.layers import Activation, Dense, BatchNormalization, Conv2D, Flatten\r\n",
        "from tensorflow.keras.optimizers import Adam, SGD\r\n",
        "from tensorflow.keras.metrics import categorical_crossentropy\r\n",
        "from tensorflow.keras.preprocessing.image import ImageDataGenerator"
      ],
      "execution_count": 34,
      "outputs": []
    },
    {
      "cell_type": "code",
      "metadata": {
        "colab": {
          "base_uri": "https://localhost:8080/"
        },
        "id": "uF1HceP2VMdQ",
        "outputId": "0907fc11-255b-4129-f102-b163e87f1603"
      },
      "source": [
        "import tensorflow as tf\r\n",
        "print(\"Num GPUs Available: \", len(tf.config.experimental.list_physical_devices('GPU')))\r\n"
      ],
      "execution_count": 35,
      "outputs": [
        {
          "output_type": "stream",
          "text": [
            "Num GPUs Available:  1\n"
          ],
          "name": "stdout"
        }
      ]
    },
    {
      "cell_type": "code",
      "metadata": {
        "id": "TRlF1cSrVZF-"
      },
      "source": [
        "import numpy as np\r\n",
        "from random import randint\r\n",
        "from sklearn.utils import shuffle\r\n",
        "from sklearn.preprocessing import MinMaxScaler"
      ],
      "execution_count": 36,
      "outputs": []
    },
    {
      "cell_type": "code",
      "metadata": {
        "id": "NIMNX3sXXj_u"
      },
      "source": [
        "train_labels = []\r\n",
        "train_samples = []\r\n",
        "\r\n",
        "train_labels = np.array(target_df)\r\n",
        "train_samples = np.array(df1)\r\n",
        "# train_labels, train_samples = shuffle(train_labels, train_samples)"
      ],
      "execution_count": 37,
      "outputs": []
    },
    {
      "cell_type": "code",
      "metadata": {
        "id": "TxZvVTHDZZSS"
      },
      "source": [
        "# may need to normalize per each row for high, low, open, close; then normalize volume per colume"
      ],
      "execution_count": 38,
      "outputs": []
    },
    {
      "cell_type": "code",
      "metadata": {
        "id": "lsJ32i5MXugw"
      },
      "source": [
        "scaler = MinMaxScaler(feature_range=(0,1))\r\n",
        "scaled_train_samples = scaler.fit_transform(train_samples.T).T"
      ],
      "execution_count": 39,
      "outputs": []
    },
    {
      "cell_type": "code",
      "metadata": {
        "id": "gyCbEz78nms1"
      },
      "source": [
        "# # decision tree\r\n",
        "# from sklearn import tree\r\n",
        "\r\n",
        "# clf = tree.DecisionTreeClassifier()\r\n",
        "# clf = clf.fit(df1, target_df)\r\n",
        "# tree.plot_tree(clf) "
      ],
      "execution_count": 40,
      "outputs": []
    },
    {
      "cell_type": "code",
      "metadata": {
        "id": "KZSlcYU2ZF-b"
      },
      "source": [
        "scaled_train_samples = train_samples"
      ],
      "execution_count": 41,
      "outputs": []
    },
    {
      "cell_type": "code",
      "metadata": {
        "id": "jiKIuOK0ZMIT"
      },
      "source": [
        "#Get the number of rows to train the model on \r\n",
        "# training_data_len = math.ceil(len(dataset)*0.75)\r\n",
        "\r\n"
      ],
      "execution_count": 42,
      "outputs": []
    },
    {
      "cell_type": "code",
      "metadata": {
        "colab": {
          "base_uri": "https://localhost:8080/"
        },
        "id": "jP66rcoMbIgL",
        "outputId": "6d9362e3-35e7-4b1d-db99-5807371e3093"
      },
      "source": [
        "scaled_train_samples.shape[1]"
      ],
      "execution_count": 43,
      "outputs": [
        {
          "output_type": "execute_result",
          "data": {
            "text/plain": [
              "4"
            ]
          },
          "metadata": {
            "tags": []
          },
          "execution_count": 43
        }
      ]
    },
    {
      "cell_type": "code",
      "metadata": {
        "id": "M4ZkX_caZ5Z3"
      },
      "source": [
        "model = Sequential([\r\n",
        "    # Flatten(input_shape=(scaled_train_samples.shape[1],)),\r\n",
        "    Dense(units=128, input_shape=(scaled_train_samples.shape[1],), activation='relu'),\r\n",
        "    Dense(units=128, activation='relu'),\r\n",
        "    Dense(units=32, activation='relu'),\r\n",
        "    Dense(units=2, activation='softmax')\r\n",
        "    # Dense(units=1, activation='sigmoid')\r\n",
        "])"
      ],
      "execution_count": 44,
      "outputs": []
    },
    {
      "cell_type": "code",
      "metadata": {
        "colab": {
          "base_uri": "https://localhost:8080/"
        },
        "id": "kWNYDfFQZ-ep",
        "outputId": "e110ed13-ae32-41f5-f080-5c374a9e15c4"
      },
      "source": [
        "model.summary()"
      ],
      "execution_count": 45,
      "outputs": [
        {
          "output_type": "stream",
          "text": [
            "Model: \"sequential\"\n",
            "_________________________________________________________________\n",
            "Layer (type)                 Output Shape              Param #   \n",
            "=================================================================\n",
            "dense (Dense)                (None, 128)               640       \n",
            "_________________________________________________________________\n",
            "dense_1 (Dense)              (None, 128)               16512     \n",
            "_________________________________________________________________\n",
            "dense_2 (Dense)              (None, 32)                4128      \n",
            "_________________________________________________________________\n",
            "dense_3 (Dense)              (None, 2)                 66        \n",
            "=================================================================\n",
            "Total params: 21,346\n",
            "Trainable params: 21,346\n",
            "Non-trainable params: 0\n",
            "_________________________________________________________________\n"
          ],
          "name": "stdout"
        }
      ]
    },
    {
      "cell_type": "code",
      "metadata": {
        "id": "tCjTe8zQ7bji"
      },
      "source": [
        "model.save_weights('model.h5')\r\n"
      ],
      "execution_count": 46,
      "outputs": []
    },
    {
      "cell_type": "code",
      "metadata": {
        "id": "sd70awVH7fWR"
      },
      "source": [
        "model.load_weights('model.h5')\r\n"
      ],
      "execution_count": 47,
      "outputs": []
    },
    {
      "cell_type": "code",
      "metadata": {
        "colab": {
          "base_uri": "https://localhost:8080/"
        },
        "id": "0yelqT2qaC3y",
        "outputId": "fd65496b-c0a9-4ad1-8303-47d1833889d4"
      },
      "source": [
        "model.compile(optimizer=Adam(learning_rate=0.0001), loss='sparse_categorical_crossentropy', metrics=['accuracy'])\r\n",
        "# model.compile(optimizer=Adam(learning_rate=0.0001), loss='binary_crossentropy', metrics=['TruePositives','FalsePositives', 'accuracy'])\r\n",
        "# model.compile(optimizer=SGD(learning_rate=0.0001), loss='mse', metrics=['TruePositives', 'FalsePositives'])\r\n",
        "\r\n",
        "\r\n",
        "model.fit(x=scaled_train_samples, y=train_labels, validation_split=0.25, batch_size=1, epochs=15, verbose=2)\r\n"
      ],
      "execution_count": 48,
      "outputs": [
        {
          "output_type": "stream",
          "text": [
            "Epoch 1/15\n",
            "2811/2811 - 5s - loss: 0.5659 - accuracy: 0.7666 - val_loss: 0.7587 - val_accuracy: 0.8090\n",
            "Epoch 2/15\n",
            "2811/2811 - 4s - loss: 0.5451 - accuracy: 0.7652 - val_loss: 0.6167 - val_accuracy: 0.8090\n",
            "Epoch 3/15\n",
            "2811/2811 - 4s - loss: 0.5362 - accuracy: 0.7649 - val_loss: 0.6098 - val_accuracy: 0.8090\n",
            "Epoch 4/15\n",
            "2811/2811 - 4s - loss: 0.5266 - accuracy: 0.7670 - val_loss: 0.4120 - val_accuracy: 0.8154\n",
            "Epoch 5/15\n",
            "2811/2811 - 4s - loss: 0.5205 - accuracy: 0.7663 - val_loss: 0.3849 - val_accuracy: 0.8282\n",
            "Epoch 6/15\n",
            "2811/2811 - 4s - loss: 0.5088 - accuracy: 0.7670 - val_loss: 0.4659 - val_accuracy: 0.8186\n",
            "Epoch 7/15\n",
            "2811/2811 - 4s - loss: 0.4931 - accuracy: 0.7727 - val_loss: 0.5163 - val_accuracy: 0.8260\n",
            "Epoch 8/15\n",
            "2811/2811 - 4s - loss: 0.4825 - accuracy: 0.7752 - val_loss: 0.3537 - val_accuracy: 0.8495\n",
            "Epoch 9/15\n",
            "2811/2811 - 4s - loss: 0.4655 - accuracy: 0.7805 - val_loss: 0.3023 - val_accuracy: 0.8815\n",
            "Epoch 10/15\n",
            "2811/2811 - 4s - loss: 0.4441 - accuracy: 0.7926 - val_loss: 0.8065 - val_accuracy: 0.8346\n",
            "Epoch 11/15\n",
            "2811/2811 - 4s - loss: 0.4297 - accuracy: 0.7994 - val_loss: 0.3250 - val_accuracy: 0.8890\n",
            "Epoch 12/15\n",
            "2811/2811 - 4s - loss: 0.4155 - accuracy: 0.8090 - val_loss: 0.5145 - val_accuracy: 0.8282\n",
            "Epoch 13/15\n",
            "2811/2811 - 4s - loss: 0.4083 - accuracy: 0.8175 - val_loss: 0.5041 - val_accuracy: 0.8719\n",
            "Epoch 14/15\n",
            "2811/2811 - 4s - loss: 0.3940 - accuracy: 0.8292 - val_loss: 0.9653 - val_accuracy: 0.8485\n",
            "Epoch 15/15\n",
            "2811/2811 - 4s - loss: 0.4020 - accuracy: 0.8225 - val_loss: 0.5024 - val_accuracy: 0.8420\n"
          ],
          "name": "stdout"
        },
        {
          "output_type": "execute_result",
          "data": {
            "text/plain": [
              "<tensorflow.python.keras.callbacks.History at 0x7f86be3924e0>"
            ]
          },
          "metadata": {
            "tags": []
          },
          "execution_count": 48
        }
      ]
    },
    {
      "cell_type": "code",
      "metadata": {
        "id": "_RFbMyjCgMox"
      },
      "source": [
        "from sklearn.metrics import confusion_matrix\r\n"
      ],
      "execution_count": 49,
      "outputs": []
    },
    {
      "cell_type": "code",
      "metadata": {
        "colab": {
          "base_uri": "https://localhost:8080/"
        },
        "id": "Cx-HG4LpgJhU",
        "outputId": "704591f2-8681-4ae7-8101-eac821e1b914"
      },
      "source": [
        "# just to try with all data, should be used on test data\r\n",
        "predictions = model.predict(\r\n",
        "      x=scaled_train_samples\r\n",
        "    , batch_size=1\r\n",
        "    , verbose=1\r\n",
        ")  "
      ],
      "execution_count": 50,
      "outputs": [
        {
          "output_type": "stream",
          "text": [
            "3748/3748 [==============================] - 4s 971us/step\n"
          ],
          "name": "stdout"
        }
      ]
    },
    {
      "cell_type": "code",
      "metadata": {
        "colab": {
          "base_uri": "https://localhost:8080/"
        },
        "id": "V7hIkL_MhVp7",
        "outputId": "cd00edd5-f6c6-411d-ba2e-5a5b84f95f96"
      },
      "source": [
        "# # for i in predictions:\r\n",
        "# #     print(i)\r\n",
        "predictions"
      ],
      "execution_count": 51,
      "outputs": [
        {
          "output_type": "execute_result",
          "data": {
            "text/plain": [
              "array([[0.6488615 , 0.3511385 ],\n",
              "       [0.6380454 , 0.3619546 ],\n",
              "       [0.6958307 , 0.3041693 ],\n",
              "       ...,\n",
              "       [0.33262366, 0.6673764 ],\n",
              "       [0.9984749 , 0.00152507],\n",
              "       [0.02236692, 0.97763306]], dtype=float32)"
            ]
          },
          "metadata": {
            "tags": []
          },
          "execution_count": 51
        }
      ]
    },
    {
      "cell_type": "code",
      "metadata": {
        "colab": {
          "base_uri": "https://localhost:8080/"
        },
        "id": "N4PvahtIhBh-",
        "outputId": "4ca67696-8ba5-4e41-819c-7b9935414347"
      },
      "source": [
        "rounded_predictions = np.argmax(predictions, axis=-1)\r\n",
        "cm = confusion_matrix(y_true=train_labels, y_pred=rounded_predictions, labels=[0,1])\r\n",
        "cm"
      ],
      "execution_count": 52,
      "outputs": [
        {
          "output_type": "execute_result",
          "data": {
            "text/plain": [
              "array([[2579,  335],\n",
              "       [ 228,  606]])"
            ]
          },
          "metadata": {
            "tags": []
          },
          "execution_count": 52
        }
      ]
    },
    {
      "cell_type": "code",
      "metadata": {
        "id": "xIANj63umdmb"
      },
      "source": [
        "# 0    2623\r\n",
        "# 1    1125"
      ],
      "execution_count": 53,
      "outputs": []
    },
    {
      "cell_type": "code",
      "metadata": {
        "id": "yGc9861Qq9iE"
      },
      "source": [
        "# 0    2914\r\n",
        "# 1     834\r\n",
        "# Name: Target, dtype: int64"
      ],
      "execution_count": 54,
      "outputs": []
    }
  ]
}